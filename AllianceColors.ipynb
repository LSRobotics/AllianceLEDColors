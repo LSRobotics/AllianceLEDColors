{
 "cells": [
  {
   "cell_type": "code",
   "execution_count": 32,
   "id": "799eb440-8c02-4f07-9661-8a961a624add",
   "metadata": {},
   "outputs": [],
   "source": [
    "import requests\n",
    "import json\n",
    "import pandas as pd\n",
    "eventKey = \"2023pahat\" #change eventKey to 2024pahat (Hatboro), 2024paphi (SCH)\n",
    "currentTeam = 5181"
   ]
  },
  {
   "cell_type": "code",
   "execution_count": 20,
   "id": "4c0a7998-da76-4f41-a482-77a8b585571d",
   "metadata": {},
   "outputs": [],
   "source": [
    "def frcteamNum(teamNum):\n",
    "    return int(teamNum[3:])"
   ]
  },
  {
   "cell_type": "code",
   "execution_count": 30,
   "id": "2ed8f59f-1b6c-4dab-b57b-e97fe86c7c60",
   "metadata": {},
   "outputs": [
    {
     "name": "stdout",
     "output_type": "stream",
     "text": [
      "<Response [200]>\n"
     ]
    }
   ],
   "source": [
    "APIKey = open('APIKey.txt', 'r')\n",
    "matchData = requests.get(\"https://www.thebluealliance.com/api/v3/event/\"+eventKey+\"/matches\", \n",
    "headers = {'X-TBA-Auth-Key': APIKey.read()})\n",
    "APIKey.close()\n",
    "print(matchData)"
   ]
  },
  {
   "cell_type": "code",
   "execution_count": null,
   "id": "6a564c41-c3e8-43bb-b467-c48a8c5c1e44",
   "metadata": {
    "editable": true,
    "slideshow": {
     "slide_type": ""
    },
    "tags": []
   },
   "outputs": [],
   "source": [
    "matchColors = []\n",
    "teamColor = requests.get(\"https://api.frc-colors.com/v1/team/\"+str(currentTeam)).json()\n",
    "\n",
    "for match in matchData.json():\n",
    "    for teamNum in match['alliances']['blue']['team_keys']:\n",
    "        if frcteamNum(teamNum) == currentTeam:\n",
    "            matchNum = match['match_number']\n",
    "            partners = []\n",
    "            for team in match['alliances']['blue']['team_keys']:\n",
    "                partners.append(frcteamNum(team))\n",
    "            partners.remove(currentTeam)\n",
    "            partner1 = requests.get(\"https://api.frc-colors.com/v1/team/\"+str(partners[0])).json()\n",
    "            partner2 = requests.get(\"https://api.frc-colors.com/v1/team/\"+str(partners[1])).json()\n",
    "            print(partner1)\n",
    "            matchColors.append({matchNum, partner1[\"primaryHex\"], partner1[\"secondaryHex\"], partner2[\"primaryHex\"], partner2[\"secondaryHex\"]})\n",
    "            if partner1[\"primaryHex\"] == \"None\":\n",
    "                partner1[\"primaryHex\"] = teamColor['primaryHex']\n",
    "                matchColors.append(partner1[\"primaryHex\"])\n",
    "            if partner1[\"secondaryHex\"] == \"None\":\n",
    "                partner1[\"secondaryHex\"] = teamColor['secondaryHex']\n",
    "                matchColors.append(partner1[\"secondaryHex\"])\n",
    "            if partner2[\"primaryHex\"] == \"None\":\n",
    "                partner2[\"primaryHex\"] = teamColor['primaryHex']\n",
    "                matchColors.append(partner2[\"primaryHex\"])\n",
    "            if partner2[\"secondaryHex\"] == \"None\":\n",
    "                partner2[\"secondaryHex\"] = teamColor['secondaryHex']\n",
    "                matchColors.append(partner2[\"secondaryHex\"]) #test code, not sure if it works\n",
    "    for teamNum in match['alliances']['red']['team_keys']:\n",
    "        if frcteamNum(teamNum) == currentTeam:\n",
    "            matchNum = match['match_number']\n",
    "            partners = []\n",
    "            for team in match['alliances']['red']['team_keys']:\n",
    "                partners.append(frcteamNum(team))\n",
    "            partners.remove(currentTeam)\n",
    "            partner1 = requests.get(\"https://api.frc-colors.com/v1/team/\"+str(partners[0])).json()\n",
    "            partner2 = requests.get(\"https://api.frc-colors.com/v1/team/\"+str(partners[1])).json()\n",
    "            print(partner1)\n",
    "            matchColors.append({matchNum, partner1[\"primaryHex\"], partner1[\"secondaryHex\"], partner2[\"primaryHex\"], partner2[\"secondaryHex\"]})\n",
    "            if partner1[\"primaryHex\"] == \"None\":\n",
    "                partner1[\"primaryHex\"] = teamColor['primaryHex']\n",
    "                matchColors.append(partner1[\"primaryHex\"])\n",
    "            if partner1[\"secondaryHex\"] == \"None\":\n",
    "                partner1[\"secondaryHex\"] = teamColor['secondaryHex']\n",
    "                matchColors.append(partner1[\"secondaryHex\"])\n",
    "            if partner2[\"primaryHex\"] == \"None\":\n",
    "                partner2[\"primaryHex\"] = teamColor['primaryHex']\n",
    "                matchColors.append(partner2[\"primaryHex\"])\n",
    "            if partner2[\"secondaryHex\"] == \"None\":\n",
    "                partner2[\"secondaryHex\"] = teamColor['secondaryHex']\n",
    "                matchColors.append(partner2[\"secondaryHex\"]) #test code, not sure if it works\n",
    "print(matchColors)"
   ]
  },
  {
   "cell_type": "code",
   "execution_count": null,
   "id": "d2a15ec6-49f5-4ee7-a9e2-d13e112ae728",
   "metadata": {},
   "outputs": [],
   "source": [
    "pd.DataFrame(matchColors).to_csv('matchColors.csv', index=False)  "
   ]
  }
 ],
 "metadata": {
  "kernelspec": {
   "display_name": "Python 3 (ipykernel)",
   "language": "python",
   "name": "python3"
  },
  "language_info": {
   "codemirror_mode": {
    "name": "ipython",
    "version": 3
   },
   "file_extension": ".py",
   "mimetype": "text/x-python",
   "name": "python",
   "nbconvert_exporter": "python",
   "pygments_lexer": "ipython3",
   "version": "3.12.1"
  }
 },
 "nbformat": 4,
 "nbformat_minor": 5
}
